{
 "cells": [
  {
   "cell_type": "code",
   "execution_count": 1,
   "metadata": {},
   "outputs": [],
   "source": [
    "from skimage import filters,io,morphology\n",
    "from matplotlib import pyplot as plt\n",
    "import numpy as np\n",
    "import cv2\n",
    "import ipywidgets as widgets\n",
    "import IPython.core.display\n",
    "from IPython.core.display import display, HTML\n",
    "from PIL import Image, ImageOps\n",
    "import io"
   ]
  },
  {
   "cell_type": "code",
   "execution_count": 3,
   "metadata": {},
   "outputs": [],
   "source": [
    "def prepareBinaryImg(image):\n",
    "    minPixel = np.amin(image)\n",
    "    maxPixel = np.amax(image)\n",
    "    \n",
    "    middleValue = minPixel + (maxPixel-minPixel)/2\n",
    "    binaryImg = [[0 for j in range(len(image[0]))] for i in range(len(image))]\n",
    "    \n",
    "    for i in range(len(image)):\n",
    "        for j in range(len(image[i])):\n",
    "            if image[i][j] > middleValue:\n",
    "                binaryImg[i][j] = 1\n",
    "            else:\n",
    "                binaryImg[i][j] = 0\n",
    "                \n",
    "    return binaryImg"
   ]
  },
  {
   "cell_type": "code",
   "execution_count": 15,
   "metadata": {},
   "outputs": [],
   "source": [
    "def getBlackWhiteContour(binaryImg):\n",
    "    erosion = morphology.erosion(np.array(binaryImg))\n",
    "    erosion = morphology.erosion(erosion)\n",
    "    dilation = morphology.dilation(np.array(binaryImg))\n",
    "    dilation = morphology.dilation(dilation)\n",
    "    \n",
    "    borderOutside = dilation - binaryImg\n",
    "    borderInside = binaryImg - erosion\n",
    "    contour = borderOutside + borderInside\n",
    "    return contour\n",
    "    "
   ]
  },
  {
   "cell_type": "code",
   "execution_count": 12,
   "metadata": {},
   "outputs": [],
   "source": [
    "def findContours(contourImg, imgColor):\n",
    "    contours, hierarchy = cv2.findContours(contourImg, cv2.RETR_FLOODFILL, cv2.CHAIN_APPROX_NONE)\n",
    "    cv2.drawContours(imgColor, contours, -1, (0,255,0), 3)\n",
    "    return contours, imgColor"
   ]
  },
  {
   "cell_type": "code",
   "execution_count": 16,
   "metadata": {},
   "outputs": [],
   "source": [
    "def prepareUpload():\n",
    "    imageUpload = widgets.FileUpload(accept='image/*', multiple=False)\n",
    "    sliderBox = widgets.HBox([widgets.VBox([widgets.Label('Upload image')]), \n",
    "             widgets.VBox([imageUpload])])\n",
    "    display(sliderBox)\n",
    "    processButton = widgets.Button(description='Start')\n",
    "    output = widgets.Output()\n",
    "    output2 = widgets.Output()\n",
    "    display(processButton, output, output2)\n",
    "    \n",
    "    def onProcessButton(b):\n",
    "        with output:\n",
    "            for uploaded_filename in imageUpload.value:\n",
    "                content = imageUpload.value[uploaded_filename]['content']\n",
    "                image = Image.open(io.BytesIO(content))\n",
    "                image_gray = ImageOps.grayscale(image)\n",
    "                image = np.asarray(image)\n",
    "                image_gray = np.asarray(image_gray)\n",
    "                image_oryg = image.copy()\n",
    "                \n",
    "                kernel = np.ones((3,3),np.float32)/9\n",
    "                image_gray = cv2.filter2D(image_gray,-1,kernel)\n",
    "                \n",
    "                binaryImg = prepareBinaryImg(image_gray)\n",
    "                contourImg = getBlackWhiteContour(binaryImg)\n",
    "                contours, imgColor = findContours(contourImg, image)\n",
    "                \n",
    "                fig=plt.figure(figsize=(17,50))\n",
    "                fig.add_subplot(1, 3, 1)\n",
    "                plt.imshow(image_oryg, cmap = 'gist_gray')\n",
    "                fig.add_subplot(1, 3, 2)\n",
    "                plt.imshow(contourImg, cmap = 'gist_gray')\n",
    "                fig.add_subplot(1, 3, 3)\n",
    "                plt.imshow(imgColor, cmap = 'gist_gray')\n",
    "                \n",
    "                plt.show()\n",
    "    processButton.on_click(onProcessButton)\n"
   ]
  },
  {
   "cell_type": "code",
   "execution_count": 17,
   "metadata": {},
   "outputs": [
    {
     "data": {
      "application/vnd.jupyter.widget-view+json": {
       "model_id": "ca0a72d92d514ebc80368656a15aeb6b",
       "version_major": 2,
       "version_minor": 0
      },
      "text/plain": [
       "HBox(children=(VBox(children=(Label(value='Upload image'),)), VBox(children=(FileUpload(value={}, accept='imag…"
      ]
     },
     "metadata": {},
     "output_type": "display_data"
    },
    {
     "data": {
      "application/vnd.jupyter.widget-view+json": {
       "model_id": "829b2d7b6bc64fcd980073343bfbb3aa",
       "version_major": 2,
       "version_minor": 0
      },
      "text/plain": [
       "Button(description='Start', style=ButtonStyle())"
      ]
     },
     "metadata": {},
     "output_type": "display_data"
    },
    {
     "data": {
      "application/vnd.jupyter.widget-view+json": {
       "model_id": "316fabc02f2e4fb1813e3f36e5f66c9d",
       "version_major": 2,
       "version_minor": 0
      },
      "text/plain": [
       "Output()"
      ]
     },
     "metadata": {},
     "output_type": "display_data"
    },
    {
     "data": {
      "application/vnd.jupyter.widget-view+json": {
       "model_id": "1c18dca914f74409a06ef225dec7ec51",
       "version_major": 2,
       "version_minor": 0
      },
      "text/plain": [
       "Output()"
      ]
     },
     "metadata": {},
     "output_type": "display_data"
    }
   ],
   "source": [
    "prepareUpload()\n"
   ]
  },
  {
   "cell_type": "code",
   "execution_count": null,
   "metadata": {},
   "outputs": [],
   "source": []
  }
 ],
 "metadata": {
  "kernelspec": {
   "display_name": "Python 3",
   "language": "python",
   "name": "python3"
  },
  "language_info": {
   "codemirror_mode": {
    "name": "ipython",
    "version": 3
   },
   "file_extension": ".py",
   "mimetype": "text/x-python",
   "name": "python",
   "nbconvert_exporter": "python",
   "pygments_lexer": "ipython3",
   "version": "3.8.3"
  }
 },
 "nbformat": 4,
 "nbformat_minor": 4
}
